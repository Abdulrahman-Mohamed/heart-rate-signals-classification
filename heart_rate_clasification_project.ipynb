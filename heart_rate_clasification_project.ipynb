{
  "nbformat": 4,
  "nbformat_minor": 0,
  "metadata": {
    "colab": {
      "name": "heart_rate_clasification_project.ipynb",
      "provenance": [],
      "mount_file_id": "1mfsr-aIyIi_8Ey-RMjEudd5hy4lVqjaI",
      "authorship_tag": "ABX9TyPS2SWJEiFQd/4g+EPtrLoH",
      "include_colab_link": true
    },
    "kernelspec": {
      "name": "python3",
      "display_name": "Python 3"
    },
    "accelerator": "GPU"
  },
  "cells": [
    {
      "cell_type": "markdown",
      "metadata": {
        "id": "view-in-github",
        "colab_type": "text"
      },
      "source": [
        "<a href=\"https://colab.research.google.com/github/Abdulrahman-Mohamed/heart-rate-signals-classification/blob/main/heart_rate_clasification_project.ipynb\" target=\"_parent\"><img src=\"https://colab.research.google.com/assets/colab-badge.svg\" alt=\"Open In Colab\"/></a>"
      ]
    },
    {
      "cell_type": "code",
      "metadata": {
        "colab": {
          "base_uri": "https://localhost:8080/",
          "height": 372
        },
        "id": "V4SmQxF3Ed8h",
        "outputId": "9173176b-81dc-408b-c754-2a909e9147ab"
      },
      "source": [
        "!pip install pyunpack\n",
        "!pip install patool"
      ],
      "execution_count": null,
      "outputs": [
        {
          "output_type": "stream",
          "text": [
            "Collecting pyunpack\n",
            "  Downloading https://files.pythonhosted.org/packages/83/29/020436b1d8e96e5f26fa282b9c3c13a3b456a36b9ea2edc87c5fed008369/pyunpack-0.2.2-py2.py3-none-any.whl\n",
            "Collecting entrypoint2\n",
            "  Downloading https://files.pythonhosted.org/packages/c2/ca/00c8767568924e5c2209da99b6abdeeed9d11cbae2a713d54d041b092a09/entrypoint2-0.2.3-py2.py3-none-any.whl\n",
            "Collecting easyprocess\n",
            "  Downloading https://files.pythonhosted.org/packages/48/3c/75573613641c90c6d094059ac28adb748560d99bd27ee6f80cce398f404e/EasyProcess-0.3-py2.py3-none-any.whl\n",
            "Collecting argparse\n",
            "  Downloading https://files.pythonhosted.org/packages/f2/94/3af39d34be01a24a6e65433d19e107099374224905f1e0cc6bbe1fd22a2f/argparse-1.4.0-py2.py3-none-any.whl\n",
            "Installing collected packages: argparse, entrypoint2, easyprocess, pyunpack\n",
            "Successfully installed argparse-1.4.0 easyprocess-0.3 entrypoint2-0.2.3 pyunpack-0.2.2\n"
          ],
          "name": "stdout"
        },
        {
          "output_type": "display_data",
          "data": {
            "application/vnd.colab-display-data+json": {
              "pip_warning": {
                "packages": [
                  "argparse"
                ]
              }
            }
          },
          "metadata": {
            "tags": []
          }
        },
        {
          "output_type": "stream",
          "text": [
            "Collecting patool\n",
            "\u001b[?25l  Downloading https://files.pythonhosted.org/packages/43/94/52243ddff508780dd2d8110964320ab4851134a55ab102285b46e740f76a/patool-1.12-py2.py3-none-any.whl (77kB)\n",
            "\u001b[K     |████████████████████████████████| 81kB 5.5MB/s \n",
            "\u001b[?25hInstalling collected packages: patool\n",
            "Successfully installed patool-1.12\n"
          ],
          "name": "stdout"
        }
      ]
    },
    {
      "cell_type": "code",
      "metadata": {
        "id": "CVKGHBwCBGCQ"
      },
      "source": [
        "\n",
        "import os\n",
        "\n",
        "from pyunpack import Archive\n",
        "os.mkdir('/content/dataset')\n",
        "\n",
        "Archive('/content/drive/MyDrive/Colab Notebooks/datasets for colab/current.rar').extractall('/content/dataset')\n"
      ],
      "execution_count": null,
      "outputs": []
    },
    {
      "cell_type": "code",
      "metadata": {
        "id": "qN9OXZ7aEV8y"
      },
      "source": [
        "import numpy as np \n",
        "import pandas as pd\n",
        "import os\n",
        "from sklearn.model_selection import train_test_split\n",
        "from sklearn.metrics import confusion_matrix, accuracy_score\n",
        "import tensorflow as tf\n",
        "from tensorflow.compat.v1 import ConfigProto\n",
        "from tensorflow.compat.v1 import InteractiveSession\n",
        "\n",
        "\n",
        "config = ConfigProto()\n",
        "config.gpu_options.allow_growth = True\n",
        "session = InteractiveSession(config=config)\n",
        "\n",
        "import pandas as pd\n",
        "import numpy as np\n",
        "import os\n",
        "from sklearn.model_selection import train_test_split\n",
        "\n",
        "import matplotlib.pyplot as plt\n",
        "import matplotlib.colors as mcolors\n",
        "import matplotlib\n",
        "import seaborn as sns\n",
        "\n",
        "import random\n",
        "import pandas as pd\n",
        "import torch\n",
        "\n",
        "import sklearn\n",
        "\n",
        "import itertools\n",
        "from mpl_toolkits.axes_grid1 import make_axes_locatable\n",
        "from tqdm import tqdm\n",
        "from sklearn.metrics import precision_recall_curve\n",
        "from sklearn.metrics import classification_report, confusion_matrix"
      ],
      "execution_count": null,
      "outputs": []
    },
    {
      "cell_type": "code",
      "metadata": {
        "id": "avZIV0uKIzRw"
      },
      "source": [
        "from keras import layers\n",
        "from keras.layers import Input, Dense, Dropout, Activation, ZeroPadding2D, BatchNormalization, Flatten, Conv2D, Embedding, Add\n",
        "from keras.layers import Conv1D, GlobalAveragePooling1D, AveragePooling2D, MaxPooling2D, MaxPool1D, ZeroPadding1D, GlobalMaxPooling2D, GlobalAveragePooling2D, LSTM, SpatialDropout1D\n",
        "from keras.models import Sequential, Model\n",
        "from keras.preprocessing import image\n",
        "from keras.utils import plot_model\n",
        "from keras.applications.inception_v3 import InceptionV3\n",
        "from sklearn.model_selection import train_test_split\n",
        "import matplotlib.pyplot as plt\n",
        "from sklearn.metrics import confusion_matrix\n",
        "from keras.layers.merge import concatenate"
      ],
      "execution_count": null,
      "outputs": []
    },
    {
      "cell_type": "code",
      "metadata": {
        "colab": {
          "base_uri": "https://localhost:8080/"
        },
        "id": "Ouz2NC7hEr_B",
        "outputId": "533d0ef4-996f-4810-f912-052d5dbe5570"
      },
      "source": [
        "mit_train_df = pd.read_csv(\"/content/dataset/mitbih_train.csv\", header=None)\n",
        "mit_test_df = pd.read_csv(\"/content/dataset/mitbih_test.csv\", header=None)\n",
        "\n",
        "print(mit_train_df.shape)\n",
        "print(mit_test_df.shape)"
      ],
      "execution_count": null,
      "outputs": [
        {
          "output_type": "stream",
          "text": [
            "(87554, 188)\n",
            "(21892, 188)\n"
          ],
          "name": "stdout"
        }
      ]
    },
    {
      "cell_type": "code",
      "metadata": {
        "colab": {
          "base_uri": "https://localhost:8080/"
        },
        "id": "a1_onbq5Frbn",
        "outputId": "f8c55dd2-2edb-432e-f5dd-955d095aebb3"
      },
      "source": [
        "mit_df=pd.concat([mit_train_df, mit_test_df], axis=0)\n",
        "mit_df.shape"
      ],
      "execution_count": null,
      "outputs": [
        {
          "output_type": "execute_result",
          "data": {
            "text/plain": [
              "(109446, 188)"
            ]
          },
          "metadata": {
            "tags": []
          },
          "execution_count": 10
        }
      ]
    },
    {
      "cell_type": "code",
      "metadata": {
        "colab": {
          "base_uri": "https://localhost:8080/"
        },
        "id": "4si8J-nHFvHg",
        "outputId": "b647604b-3153-4b41-b254-31be18039581"
      },
      "source": [
        "print(mit_df[mit_df.columns[-1]].unique())\n"
      ],
      "execution_count": null,
      "outputs": [
        {
          "output_type": "stream",
          "text": [
            "[0. 1. 2. 3. 4.]\n"
          ],
          "name": "stdout"
        }
      ]
    },
    {
      "cell_type": "code",
      "metadata": {
        "id": "TTn1TodTFylQ"
      },
      "source": [
        "train_classes={0:\"N\",\n",
        "            1:\"S\",\n",
        "            2:\"V\",\n",
        "            3:\"F\",\n",
        "            4:\"Q\",\n",
        "            5:\"M\"}"
      ],
      "execution_count": null,
      "outputs": []
    },
    {
      "cell_type": "code",
      "metadata": {
        "colab": {
          "base_uri": "https://localhost:8080/"
        },
        "id": "UehnWC68F1y3",
        "outputId": "a82aa3ac-dd3c-4906-e9e2-7a1fa7c46c42"
      },
      "source": [
        "print(mit_df[mit_df.columns[-1]].unique())"
      ],
      "execution_count": null,
      "outputs": [
        {
          "output_type": "stream",
          "text": [
            "[0. 1. 2. 3. 4.]\n"
          ],
          "name": "stdout"
        }
      ]
    },
    {
      "cell_type": "code",
      "metadata": {
        "colab": {
          "base_uri": "https://localhost:8080/",
          "height": 297
        },
        "id": "W1Kw8fMjQw9c",
        "outputId": "7836738b-703d-4ffe-fd15-81529b124e98"
      },
      "source": [
        "sns.countplot(x=187, data = mit_df) "
      ],
      "execution_count": null,
      "outputs": [
        {
          "output_type": "execute_result",
          "data": {
            "text/plain": [
              "<matplotlib.axes._subplots.AxesSubplot at 0x7fc3a58cbe10>"
            ]
          },
          "metadata": {
            "tags": []
          },
          "execution_count": 14
        },
        {
          "output_type": "display_data",
          "data": {
            "image/png": "[encoded data removed]",
            "text/plain": [
              "<Figure size 432x288 with 1 Axes>"
            ]
          },
          "metadata": {
            "tags": [],
            "needs_background": "light"
          }
        }
      ]
    },
    {
      "cell_type": "code",
      "metadata": {
        "colab": {
          "base_uri": "https://localhost:8080/",
          "height": 243
        },
        "id": "EOlVilI0QtdI",
        "outputId": "a3edcb37-5d74-4737-af70-e1f69a6f053a"
      },
      "source": [
        "class_1 = mit_df[mit_df[187]==1.0]\n",
        "class_2 = mit_df[mit_df[187]==2.0]\n",
        "class_3 = mit_df[mit_df[187]==3.0]\n",
        "class_4 = mit_df[mit_df[187]==4.0]\n",
        "class_0 = mit_df[mit_df[187]==0.0].sample(n = 8000)\n",
        "new_df = pd.concat([class_0, class_1, class_2, class_3, class_4])\n",
        "new_df.head()"
      ],
      "execution_count": null,
      "outputs": [
        {
          "output_type": "execute_result",
          "data": {
            "text/html": [
              "<div>\n",
              "<style scoped>\n",
              "    .dataframe tbody tr th:only-of-type {\n",
              "        vertical-align: middle;\n",
              "    }\n",
              "\n",
              "    .dataframe tbody tr th {\n",
              "        vertical-align: top;\n",
              "    }\n",
              "\n",
              "    .dataframe thead th {\n",
              "        text-align: right;\n",
              "    }\n",
              "</style>\n",
              "<table border=\"1\" class=\"dataframe\">\n",
              "  <thead>\n",
              "    <tr style=\"text-align: right;\">\n",
              "      <th></th>\n",
              "      <th>0</th>\n",
              "      <th>1</th>\n",
              "      <th>2</th>\n",
              "      <th>3</th>\n",
              "      <th>4</th>\n",
              "      <th>5</th>\n",
              "      <th>6</th>\n",
              "      <th>7</th>\n",
              "      <th>8</th>\n",
              "      <th>9</th>\n",
              "      <th>10</th>\n",
              "      <th>11</th>\n",
              "      <th>12</th>\n",
              "      <th>13</th>\n",
              "      <th>14</th>\n",
              "      <th>15</th>\n",
              "      <th>16</th>\n",
              "      <th>17</th>\n",
              "      <th>18</th>\n",
              "      <th>19</th>\n",
              "      <th>20</th>\n",
              "      <th>21</th>\n",
              "      <th>22</th>\n",
              "      <th>23</th>\n",
              "      <th>24</th>\n",
              "      <th>25</th>\n",
              "      <th>26</th>\n",
              "      <th>27</th>\n",
              "      <th>28</th>\n",
              "      <th>29</th>\n",
              "      <th>30</th>\n",
              "      <th>31</th>\n",
              "      <th>32</th>\n",
              "      <th>33</th>\n",
              "      <th>34</th>\n",
              "      <th>35</th>\n",
              "      <th>36</th>\n",
              "      <th>37</th>\n",
              "      <th>38</th>\n",
              "      <th>39</th>\n",
              "      <th>...</th>\n",
              "      <th>148</th>\n",
              "      <th>149</th>\n",
              "      <th>150</th>\n",
              "      <th>151</th>\n",
              "      <th>152</th>\n",
              "      <th>153</th>\n",
              "      <th>154</th>\n",
              "      <th>155</th>\n",
              "      <th>156</th>\n",
              "      <th>157</th>\n",
              "      <th>158</th>\n",
              "      <th>159</th>\n",
              "      <th>160</th>\n",
              "      <th>161</th>\n",
              "      <th>162</th>\n",
              "      <th>163</th>\n",
              "      <th>164</th>\n",
              "      <th>165</th>\n",
              "      <th>166</th>\n",
              "      <th>167</th>\n",
              "      <th>168</th>\n",
              "      <th>169</th>\n",
              "      <th>170</th>\n",
              "      <th>171</th>\n",
              "      <th>172</th>\n",
              "      <th>173</th>\n",
              "      <th>174</th>\n",
              "      <th>175</th>\n",
              "      <th>176</th>\n",
              "      <th>177</th>\n",
              "      <th>178</th>\n",
              "      <th>179</th>\n",
              "      <th>180</th>\n",
              "      <th>181</th>\n",
              "      <th>182</th>\n",
              "      <th>183</th>\n",
              "      <th>184</th>\n",
              "      <th>185</th>\n",
              "      <th>186</th>\n",
              "      <th>187</th>\n",
              "    </tr>\n",
              "  </thead>\n",
              "  <tbody>\n",
              "    <tr>\n",
              "      <th>45804</th>\n",
              "      <td>0.903614</td>\n",
              "      <td>0.662651</td>\n",
              "      <td>0.173494</td>\n",
              "      <td>0.000000</td>\n",
              "      <td>0.048193</td>\n",
              "      <td>0.074699</td>\n",
              "      <td>0.038554</td>\n",
              "      <td>0.009639</td>\n",
              "      <td>0.024096</td>\n",
              "      <td>0.031325</td>\n",
              "      <td>0.031325</td>\n",
              "      <td>0.026506</td>\n",
              "      <td>0.033735</td>\n",
              "      <td>0.043373</td>\n",
              "      <td>0.031325</td>\n",
              "      <td>0.040964</td>\n",
              "      <td>0.043373</td>\n",
              "      <td>0.048193</td>\n",
              "      <td>0.065060</td>\n",
              "      <td>0.055422</td>\n",
              "      <td>0.055422</td>\n",
              "      <td>0.077108</td>\n",
              "      <td>0.077108</td>\n",
              "      <td>0.077108</td>\n",
              "      <td>0.101205</td>\n",
              "      <td>0.101205</td>\n",
              "      <td>0.089157</td>\n",
              "      <td>0.101205</td>\n",
              "      <td>0.106024</td>\n",
              "      <td>0.132530</td>\n",
              "      <td>0.120482</td>\n",
              "      <td>0.106024</td>\n",
              "      <td>0.125301</td>\n",
              "      <td>0.149398</td>\n",
              "      <td>0.144578</td>\n",
              "      <td>0.134940</td>\n",
              "      <td>0.151807</td>\n",
              "      <td>0.161446</td>\n",
              "      <td>0.161446</td>\n",
              "      <td>0.151807</td>\n",
              "      <td>...</td>\n",
              "      <td>0.000000</td>\n",
              "      <td>0.000000</td>\n",
              "      <td>0.000000</td>\n",
              "      <td>0.000000</td>\n",
              "      <td>0.000000</td>\n",
              "      <td>0.000000</td>\n",
              "      <td>0.000000</td>\n",
              "      <td>0.000000</td>\n",
              "      <td>0.000000</td>\n",
              "      <td>0.000000</td>\n",
              "      <td>0.000000</td>\n",
              "      <td>0.000000</td>\n",
              "      <td>0.000000</td>\n",
              "      <td>0.000000</td>\n",
              "      <td>0.000000</td>\n",
              "      <td>0.000000</td>\n",
              "      <td>0.000000</td>\n",
              "      <td>0.0</td>\n",
              "      <td>0.0</td>\n",
              "      <td>0.0</td>\n",
              "      <td>0.0</td>\n",
              "      <td>0.0</td>\n",
              "      <td>0.0</td>\n",
              "      <td>0.0</td>\n",
              "      <td>0.0</td>\n",
              "      <td>0.0</td>\n",
              "      <td>0.0</td>\n",
              "      <td>0.0</td>\n",
              "      <td>0.0</td>\n",
              "      <td>0.0</td>\n",
              "      <td>0.0</td>\n",
              "      <td>0.0</td>\n",
              "      <td>0.0</td>\n",
              "      <td>0.0</td>\n",
              "      <td>0.0</td>\n",
              "      <td>0.0</td>\n",
              "      <td>0.0</td>\n",
              "      <td>0.0</td>\n",
              "      <td>0.0</td>\n",
              "      <td>0.0</td>\n",
              "    </tr>\n",
              "    <tr>\n",
              "      <th>36448</th>\n",
              "      <td>1.000000</td>\n",
              "      <td>0.666667</td>\n",
              "      <td>0.000000</td>\n",
              "      <td>0.099415</td>\n",
              "      <td>0.097466</td>\n",
              "      <td>0.146199</td>\n",
              "      <td>0.167641</td>\n",
              "      <td>0.171540</td>\n",
              "      <td>0.169591</td>\n",
              "      <td>0.175439</td>\n",
              "      <td>0.179337</td>\n",
              "      <td>0.181287</td>\n",
              "      <td>0.181287</td>\n",
              "      <td>0.183236</td>\n",
              "      <td>0.191033</td>\n",
              "      <td>0.187135</td>\n",
              "      <td>0.194932</td>\n",
              "      <td>0.198830</td>\n",
              "      <td>0.198830</td>\n",
              "      <td>0.202729</td>\n",
              "      <td>0.208577</td>\n",
              "      <td>0.208577</td>\n",
              "      <td>0.212476</td>\n",
              "      <td>0.224172</td>\n",
              "      <td>0.228070</td>\n",
              "      <td>0.241715</td>\n",
              "      <td>0.249513</td>\n",
              "      <td>0.259259</td>\n",
              "      <td>0.269006</td>\n",
              "      <td>0.284600</td>\n",
              "      <td>0.304094</td>\n",
              "      <td>0.315789</td>\n",
              "      <td>0.341131</td>\n",
              "      <td>0.364522</td>\n",
              "      <td>0.395712</td>\n",
              "      <td>0.421053</td>\n",
              "      <td>0.448343</td>\n",
              "      <td>0.479532</td>\n",
              "      <td>0.508772</td>\n",
              "      <td>0.536062</td>\n",
              "      <td>...</td>\n",
              "      <td>0.181287</td>\n",
              "      <td>0.189084</td>\n",
              "      <td>0.189084</td>\n",
              "      <td>0.191033</td>\n",
              "      <td>0.194932</td>\n",
              "      <td>0.198830</td>\n",
              "      <td>0.200780</td>\n",
              "      <td>0.214425</td>\n",
              "      <td>0.000000</td>\n",
              "      <td>0.000000</td>\n",
              "      <td>0.000000</td>\n",
              "      <td>0.000000</td>\n",
              "      <td>0.000000</td>\n",
              "      <td>0.000000</td>\n",
              "      <td>0.000000</td>\n",
              "      <td>0.000000</td>\n",
              "      <td>0.000000</td>\n",
              "      <td>0.0</td>\n",
              "      <td>0.0</td>\n",
              "      <td>0.0</td>\n",
              "      <td>0.0</td>\n",
              "      <td>0.0</td>\n",
              "      <td>0.0</td>\n",
              "      <td>0.0</td>\n",
              "      <td>0.0</td>\n",
              "      <td>0.0</td>\n",
              "      <td>0.0</td>\n",
              "      <td>0.0</td>\n",
              "      <td>0.0</td>\n",
              "      <td>0.0</td>\n",
              "      <td>0.0</td>\n",
              "      <td>0.0</td>\n",
              "      <td>0.0</td>\n",
              "      <td>0.0</td>\n",
              "      <td>0.0</td>\n",
              "      <td>0.0</td>\n",
              "      <td>0.0</td>\n",
              "      <td>0.0</td>\n",
              "      <td>0.0</td>\n",
              "      <td>0.0</td>\n",
              "    </tr>\n",
              "    <tr>\n",
              "      <th>14136</th>\n",
              "      <td>0.000000</td>\n",
              "      <td>0.191176</td>\n",
              "      <td>0.320588</td>\n",
              "      <td>0.426471</td>\n",
              "      <td>0.491176</td>\n",
              "      <td>0.494118</td>\n",
              "      <td>0.491176</td>\n",
              "      <td>0.488235</td>\n",
              "      <td>0.502941</td>\n",
              "      <td>0.532353</td>\n",
              "      <td>0.523529</td>\n",
              "      <td>0.517647</td>\n",
              "      <td>0.523529</td>\n",
              "      <td>0.544118</td>\n",
              "      <td>0.541176</td>\n",
              "      <td>0.535294</td>\n",
              "      <td>0.552941</td>\n",
              "      <td>0.558824</td>\n",
              "      <td>0.555882</td>\n",
              "      <td>0.558824</td>\n",
              "      <td>0.582353</td>\n",
              "      <td>0.608824</td>\n",
              "      <td>0.620588</td>\n",
              "      <td>0.620588</td>\n",
              "      <td>0.650000</td>\n",
              "      <td>0.679412</td>\n",
              "      <td>0.691176</td>\n",
              "      <td>0.726471</td>\n",
              "      <td>0.761765</td>\n",
              "      <td>0.794118</td>\n",
              "      <td>0.808824</td>\n",
              "      <td>0.817647</td>\n",
              "      <td>0.847059</td>\n",
              "      <td>0.864706</td>\n",
              "      <td>0.873529</td>\n",
              "      <td>0.841176</td>\n",
              "      <td>0.826471</td>\n",
              "      <td>0.808824</td>\n",
              "      <td>0.747059</td>\n",
              "      <td>0.676471</td>\n",
              "      <td>...</td>\n",
              "      <td>0.550000</td>\n",
              "      <td>0.552941</td>\n",
              "      <td>0.550000</td>\n",
              "      <td>0.555882</td>\n",
              "      <td>0.561765</td>\n",
              "      <td>0.582353</td>\n",
              "      <td>0.585294</td>\n",
              "      <td>0.576471</td>\n",
              "      <td>0.588235</td>\n",
              "      <td>0.614706</td>\n",
              "      <td>0.629412</td>\n",
              "      <td>0.629412</td>\n",
              "      <td>0.644118</td>\n",
              "      <td>0.682353</td>\n",
              "      <td>0.702941</td>\n",
              "      <td>0.720588</td>\n",
              "      <td>0.752941</td>\n",
              "      <td>0.0</td>\n",
              "      <td>0.0</td>\n",
              "      <td>0.0</td>\n",
              "      <td>0.0</td>\n",
              "      <td>0.0</td>\n",
              "      <td>0.0</td>\n",
              "      <td>0.0</td>\n",
              "      <td>0.0</td>\n",
              "      <td>0.0</td>\n",
              "      <td>0.0</td>\n",
              "      <td>0.0</td>\n",
              "      <td>0.0</td>\n",
              "      <td>0.0</td>\n",
              "      <td>0.0</td>\n",
              "      <td>0.0</td>\n",
              "      <td>0.0</td>\n",
              "      <td>0.0</td>\n",
              "      <td>0.0</td>\n",
              "      <td>0.0</td>\n",
              "      <td>0.0</td>\n",
              "      <td>0.0</td>\n",
              "      <td>0.0</td>\n",
              "      <td>0.0</td>\n",
              "    </tr>\n",
              "    <tr>\n",
              "      <th>3548</th>\n",
              "      <td>1.000000</td>\n",
              "      <td>0.759124</td>\n",
              "      <td>0.558394</td>\n",
              "      <td>0.259124</td>\n",
              "      <td>0.091241</td>\n",
              "      <td>0.069343</td>\n",
              "      <td>0.149635</td>\n",
              "      <td>0.164234</td>\n",
              "      <td>0.178832</td>\n",
              "      <td>0.178832</td>\n",
              "      <td>0.178832</td>\n",
              "      <td>0.149635</td>\n",
              "      <td>0.189781</td>\n",
              "      <td>0.164234</td>\n",
              "      <td>0.204380</td>\n",
              "      <td>0.189781</td>\n",
              "      <td>0.215328</td>\n",
              "      <td>0.218978</td>\n",
              "      <td>0.255474</td>\n",
              "      <td>0.255474</td>\n",
              "      <td>0.288321</td>\n",
              "      <td>0.302920</td>\n",
              "      <td>0.328467</td>\n",
              "      <td>0.332117</td>\n",
              "      <td>0.350365</td>\n",
              "      <td>0.364964</td>\n",
              "      <td>0.434307</td>\n",
              "      <td>0.441606</td>\n",
              "      <td>0.492701</td>\n",
              "      <td>0.510949</td>\n",
              "      <td>0.540146</td>\n",
              "      <td>0.485401</td>\n",
              "      <td>0.467153</td>\n",
              "      <td>0.364964</td>\n",
              "      <td>0.343066</td>\n",
              "      <td>0.306569</td>\n",
              "      <td>0.310219</td>\n",
              "      <td>0.266423</td>\n",
              "      <td>0.281022</td>\n",
              "      <td>0.259124</td>\n",
              "      <td>...</td>\n",
              "      <td>0.000000</td>\n",
              "      <td>0.000000</td>\n",
              "      <td>0.000000</td>\n",
              "      <td>0.000000</td>\n",
              "      <td>0.000000</td>\n",
              "      <td>0.000000</td>\n",
              "      <td>0.000000</td>\n",
              "      <td>0.000000</td>\n",
              "      <td>0.000000</td>\n",
              "      <td>0.000000</td>\n",
              "      <td>0.000000</td>\n",
              "      <td>0.000000</td>\n",
              "      <td>0.000000</td>\n",
              "      <td>0.000000</td>\n",
              "      <td>0.000000</td>\n",
              "      <td>0.000000</td>\n",
              "      <td>0.000000</td>\n",
              "      <td>0.0</td>\n",
              "      <td>0.0</td>\n",
              "      <td>0.0</td>\n",
              "      <td>0.0</td>\n",
              "      <td>0.0</td>\n",
              "      <td>0.0</td>\n",
              "      <td>0.0</td>\n",
              "      <td>0.0</td>\n",
              "      <td>0.0</td>\n",
              "      <td>0.0</td>\n",
              "      <td>0.0</td>\n",
              "      <td>0.0</td>\n",
              "      <td>0.0</td>\n",
              "      <td>0.0</td>\n",
              "      <td>0.0</td>\n",
              "      <td>0.0</td>\n",
              "      <td>0.0</td>\n",
              "      <td>0.0</td>\n",
              "      <td>0.0</td>\n",
              "      <td>0.0</td>\n",
              "      <td>0.0</td>\n",
              "      <td>0.0</td>\n",
              "      <td>0.0</td>\n",
              "    </tr>\n",
              "    <tr>\n",
              "      <th>40581</th>\n",
              "      <td>1.000000</td>\n",
              "      <td>0.846774</td>\n",
              "      <td>0.645161</td>\n",
              "      <td>0.432796</td>\n",
              "      <td>0.309140</td>\n",
              "      <td>0.185484</td>\n",
              "      <td>0.099462</td>\n",
              "      <td>0.045699</td>\n",
              "      <td>0.021505</td>\n",
              "      <td>0.000000</td>\n",
              "      <td>0.021505</td>\n",
              "      <td>0.008065</td>\n",
              "      <td>0.018817</td>\n",
              "      <td>0.026882</td>\n",
              "      <td>0.040323</td>\n",
              "      <td>0.026882</td>\n",
              "      <td>0.032258</td>\n",
              "      <td>0.024194</td>\n",
              "      <td>0.029570</td>\n",
              "      <td>0.024194</td>\n",
              "      <td>0.032258</td>\n",
              "      <td>0.026882</td>\n",
              "      <td>0.021505</td>\n",
              "      <td>0.021505</td>\n",
              "      <td>0.040323</td>\n",
              "      <td>0.026882</td>\n",
              "      <td>0.053763</td>\n",
              "      <td>0.056452</td>\n",
              "      <td>0.088710</td>\n",
              "      <td>0.099462</td>\n",
              "      <td>0.129032</td>\n",
              "      <td>0.145161</td>\n",
              "      <td>0.177419</td>\n",
              "      <td>0.182796</td>\n",
              "      <td>0.212366</td>\n",
              "      <td>0.209677</td>\n",
              "      <td>0.215054</td>\n",
              "      <td>0.193548</td>\n",
              "      <td>0.188172</td>\n",
              "      <td>0.177419</td>\n",
              "      <td>...</td>\n",
              "      <td>0.000000</td>\n",
              "      <td>0.000000</td>\n",
              "      <td>0.000000</td>\n",
              "      <td>0.000000</td>\n",
              "      <td>0.000000</td>\n",
              "      <td>0.000000</td>\n",
              "      <td>0.000000</td>\n",
              "      <td>0.000000</td>\n",
              "      <td>0.000000</td>\n",
              "      <td>0.000000</td>\n",
              "      <td>0.000000</td>\n",
              "      <td>0.000000</td>\n",
              "      <td>0.000000</td>\n",
              "      <td>0.000000</td>\n",
              "      <td>0.000000</td>\n",
              "      <td>0.000000</td>\n",
              "      <td>0.000000</td>\n",
              "      <td>0.0</td>\n",
              "      <td>0.0</td>\n",
              "      <td>0.0</td>\n",
              "      <td>0.0</td>\n",
              "      <td>0.0</td>\n",
              "      <td>0.0</td>\n",
              "      <td>0.0</td>\n",
              "      <td>0.0</td>\n",
              "      <td>0.0</td>\n",
              "      <td>0.0</td>\n",
              "      <td>0.0</td>\n",
              "      <td>0.0</td>\n",
              "      <td>0.0</td>\n",
              "      <td>0.0</td>\n",
              "      <td>0.0</td>\n",
              "      <td>0.0</td>\n",
              "      <td>0.0</td>\n",
              "      <td>0.0</td>\n",
              "      <td>0.0</td>\n",
              "      <td>0.0</td>\n",
              "      <td>0.0</td>\n",
              "      <td>0.0</td>\n",
              "      <td>0.0</td>\n",
              "    </tr>\n",
              "  </tbody>\n",
              "</table>\n",
              "<p>5 rows × 188 columns</p>\n",
              "</div>"
            ],
            "text/plain": [
              "            0         1         2         3    ...  184  185  186  187\n",
              "45804  0.903614  0.662651  0.173494  0.000000  ...  0.0  0.0  0.0  0.0\n",
              "36448  1.000000  0.666667  0.000000  0.099415  ...  0.0  0.0  0.0  0.0\n",
              "14136  0.000000  0.191176  0.320588  0.426471  ...  0.0  0.0  0.0  0.0\n",
              "3548   1.000000  0.759124  0.558394  0.259124  ...  0.0  0.0  0.0  0.0\n",
              "40581  1.000000  0.846774  0.645161  0.432796  ...  0.0  0.0  0.0  0.0\n",
              "\n",
              "[5 rows x 188 columns]"
            ]
          },
          "metadata": {
            "tags": []
          },
          "execution_count": 15
        }
      ]
    },
    {
      "cell_type": "code",
      "metadata": {
        "colab": {
          "base_uri": "https://localhost:8080/",
          "height": 297
        },
        "id": "MkZ2_1B3Q190",
        "outputId": "7a33833a-08db-418a-82e7-10609725d21d"
      },
      "source": [
        "sns.countplot(x=187, data = new_df) "
      ],
      "execution_count": null,
      "outputs": [
        {
          "output_type": "execute_result",
          "data": {
            "text/plain": [
              "<matplotlib.axes._subplots.AxesSubplot at 0x7fc3a580ee90>"
            ]
          },
          "metadata": {
            "tags": []
          },
          "execution_count": 16
        },
        {
          "output_type": "display_data",
          "data": {
            "image/png": "[encoded data removed]",
            "text/plain": [
              "<Figure size 432x288 with 1 Axes>"
            ]
          },
          "metadata": {
            "tags": [],
            "needs_background": "light"
          }
        }
      ]
    },
    {
      "cell_type": "code",
      "metadata": {
        "colab": {
          "base_uri": "https://localhost:8080/",
          "height": 156
        },
        "id": "CzyxkQ8MQ7dm",
        "outputId": "77bbb5ba-884a-4048-8119-0c404aa64f53"
      },
      "source": [
        "fig, ax = plt.subplots(nrows = 1, ncols = 5, figsize=(25,2))\n",
        "\n",
        "for i in range(5):\n",
        "  ax[i].plot(new_df[new_df[187]==float(i)].sample(1).iloc[0,:186])\n",
        "  ax[i].set_title('Class: '+str(i))"
      ],
      "execution_count": null,
      "outputs": [
        {
          "output_type": "display_data",
          "data": {
            "image/png": "[encoded data removed]",
            "text/plain": [
              "<Figure size 1800x144 with 5 Axes>"
            ]
          },
          "metadata": {
            "tags": [],
            "needs_background": "light"
          }
        }
      ]
    },
    {
      "cell_type": "code",
      "metadata": {
        "colab": {
          "base_uri": "https://localhost:8080/"
        },
        "id": "g_nta-RGPJ2t",
        "outputId": "8ede0641-669d-4c27-f9ae-9938b97a6699"
      },
      "source": [
        "from sklearn.model_selection import train_test_split\n",
        "mit_df=pd.concat([mit_train_df, mit_test_df], axis=0)\n",
        "\n",
        "X_train, X_test, y_train, y_test = train_test_split(new_df.drop([187], axis=1), new_df[187], test_size = 0.1)\n",
        "X_train = np.array(X_train).reshape(X_train.shape[0], X_train.shape[1], 1)\n",
        "X_test = np.array(X_test).reshape(X_test.shape[0], X_test.shape[1], 1)\n",
        "\n",
        "from tensorflow.keras import utils\n",
        "y_train = utils.to_categorical(y_train)\n",
        "y_test  = utils.to_categorical(y_test)\n",
        "\n",
        "\n",
        "X_train.shape,y_train.shape"
      ],
      "execution_count": null,
      "outputs": [
        {
          "output_type": "execute_result",
          "data": {
            "text/plain": [
              "((24171, 187, 1), (24171, 5))"
            ]
          },
          "metadata": {
            "tags": []
          },
          "execution_count": 19
        }
      ]
    },
    {
      "cell_type": "code",
      "metadata": {
        "id": "YGWTQ-mwKTWs"
      },
      "source": [
        "clf = Sequential()\n",
        "\n",
        "clf.add(Conv1D(filters=64, kernel_size=(11,), padding='same', activation='relu', input_shape = (X_train.shape[1],1)))\n",
        "clf.add(BatchNormalization())\n",
        "clf.add(MaxPool1D(pool_size=(2,), strides=2, padding='same'))\n",
        "clf.add(Conv1D(filters=256, kernel_size=(5,), padding='same', activation='relu')) \n",
        "clf.add(Dropout(0.5))\n",
        "\n",
        "clf.add(MaxPool1D(pool_size=(2,), strides=2, padding='same'))\n",
        "clf.add(Conv1D(filters=384, kernel_size=(3,), padding='same', activation='relu'))  \n",
        "clf.add(Dropout(0.5))\n",
        "\n",
        "clf.add(Conv1D(filters=256, kernel_size=(3,), padding='same', activation='relu'))  \n",
        "clf.add(MaxPool1D(pool_size=(2,), strides=2, padding='same'))\n",
        "clf.add(Dropout(0.5))\n",
        "\n",
        "clf.add(BatchNormalization())\n",
        "\n",
        "clf.add(Flatten())\n",
        "\n",
        "clf.add(Dense(units = 50, activation='relu'))\n",
        "clf.add(Dropout(0.5))\n",
        "\n",
        "clf.add(Dense(units = 50, activation='relu'))\n",
        "clf.add(Dropout(0.5))\n",
        "\n",
        "\n",
        "clf.add(Dense(units = 5, activation='softmax'))"
      ],
      "execution_count": null,
      "outputs": []
    },
    {
      "cell_type": "code",
      "metadata": {
        "id": "jOKka3GeSSf2"
      },
      "source": [
        "from tensorflow import keras\n"
      ],
      "execution_count": null,
      "outputs": []
    },
    {
      "cell_type": "code",
      "metadata": {
        "id": "bTIQvIe7K6gk"
      },
      "source": [
        "opt = keras.optimizers.Adam(0.001)\n",
        "clf.compile(optimizer=opt, loss = 'categorical_crossentropy', metrics=['accuracy'])\n"
      ],
      "execution_count": null,
      "outputs": []
    },
    {
      "cell_type": "code",
      "metadata": {
        "colab": {
          "base_uri": "https://localhost:8080/"
        },
        "id": "T3NPzRHDLBeG",
        "outputId": "77ae610c-f2d5-4b66-9d44-d0726f56e54a"
      },
      "source": [
        "clf.summary()"
      ],
      "execution_count": null,
      "outputs": [
        {
          "output_type": "stream",
          "text": [
            "Model: \"sequential_36\"\n",
            "_________________________________________________________________\n",
            "Layer (type)                 Output Shape              Param #   \n",
            "=================================================================\n",
            "conv1d_84 (Conv1D)           (None, 187, 64)           768       \n",
            "_________________________________________________________________\n",
            "batch_normalization_17 (Batc (None, 187, 64)           256       \n",
            "_________________________________________________________________\n",
            "max_pooling1d_46 (MaxPooling (None, 94, 64)            0         \n",
            "_________________________________________________________________\n",
            "conv1d_85 (Conv1D)           (None, 94, 256)           82176     \n",
            "_________________________________________________________________\n",
            "dropout_33 (Dropout)         (None, 94, 256)           0         \n",
            "_________________________________________________________________\n",
            "max_pooling1d_47 (MaxPooling (None, 47, 256)           0         \n",
            "_________________________________________________________________\n",
            "conv1d_86 (Conv1D)           (None, 47, 384)           295296    \n",
            "_________________________________________________________________\n",
            "dropout_34 (Dropout)         (None, 47, 384)           0         \n",
            "_________________________________________________________________\n",
            "conv1d_87 (Conv1D)           (None, 47, 256)           295168    \n",
            "_________________________________________________________________\n",
            "max_pooling1d_48 (MaxPooling (None, 24, 256)           0         \n",
            "_________________________________________________________________\n",
            "dropout_35 (Dropout)         (None, 24, 256)           0         \n",
            "_________________________________________________________________\n",
            "batch_normalization_18 (Batc (None, 24, 256)           1024      \n",
            "_________________________________________________________________\n",
            "flatten_28 (Flatten)         (None, 6144)              0         \n",
            "_________________________________________________________________\n",
            "dense_133 (Dense)            (None, 50)                307250    \n",
            "_________________________________________________________________\n",
            "dropout_36 (Dropout)         (None, 50)                0         \n",
            "_________________________________________________________________\n",
            "dense_134 (Dense)            (None, 50)                2550      \n",
            "_________________________________________________________________\n",
            "dropout_37 (Dropout)         (None, 50)                0         \n",
            "_________________________________________________________________\n",
            "dense_135 (Dense)            (None, 5)                 255       \n",
            "=================================================================\n",
            "Total params: 984,743\n",
            "Trainable params: 984,103\n",
            "Non-trainable params: 640\n",
            "_________________________________________________________________\n"
          ],
          "name": "stdout"
        }
      ]
    },
    {
      "cell_type": "code",
      "metadata": {
        "colab": {
          "base_uri": "https://localhost:8080/",
          "height": 1000
        },
        "id": "JfXtQ8JiLHie",
        "outputId": "2215dce4-9d3c-414f-fd3c-0b18f355c883"
      },
      "source": [
        "plot_model(clf)"
      ],
      "execution_count": null,
      "outputs": [
        {
          "output_type": "execute_result",
          "data": {
            "image/png": "[encoded data removed]",
            "text/plain": [
              "<IPython.core.display.Image object>"
            ]
          },
          "metadata": {
            "tags": []
          },
          "execution_count": 279
        }
      ]
    },
    {
      "cell_type": "code",
      "metadata": {
        "id": "rfICEg9LLbps"
      },
      "source": [
        "from keras.callbacks import EarlyStopping, ModelCheckpoint, ReduceLROnPlateau\n",
        "from sklearn.preprocessing import MinMaxScaler\n",
        "from sklearn.preprocessing import StandardScaler"
      ],
      "execution_count": null,
      "outputs": []
    },
    {
      "cell_type": "code",
      "metadata": {
        "colab": {
          "base_uri": "https://localhost:8080/"
        },
        "id": "gQifr6EiLJzl",
        "outputId": "ba44605e-566c-4cbb-88d2-1f71381f3dc6"
      },
      "source": [
        "earlyStopping = EarlyStopping(monitor='val_loss', patience=40, verbose=1, mode='min')\n",
        "mcp_save = ModelCheckpoint(r'/content/first.hdf5', save_best_only=True, monitor='val_loss', mode='min')\n",
        "reduce_lr = ReduceLROnPlateau(monitor='val_loss', factor=0.2,patience=20, min_lr=0.0001)\n",
        "cnn_history = clf.fit(X_train,y_train,epochs=50,batch_size=16,validation_split=0.33,callbacks=[earlyStopping, mcp_save, reduce_lr]\n",
        "                  ,validation_steps=10, verbose=1)"
      ],
      "execution_count": null,
      "outputs": [
        {
          "output_type": "stream",
          "text": [
            "Epoch 1/50\n",
            "1013/1013 [==============================] - 8s 7ms/step - loss: 1.3264 - accuracy: 0.5006 - val_loss: 0.9558 - val_accuracy: 0.6812\n",
            "Epoch 2/50\n",
            "1013/1013 [==============================] - 7s 6ms/step - loss: 0.7156 - accuracy: 0.7467 - val_loss: 0.5950 - val_accuracy: 0.8375\n",
            "Epoch 3/50\n",
            "1013/1013 [==============================] - 6s 6ms/step - loss: 0.6040 - accuracy: 0.7924 - val_loss: 0.4899 - val_accuracy: 0.8687\n",
            "Epoch 4/50\n",
            "1013/1013 [==============================] - 7s 7ms/step - loss: 0.5080 - accuracy: 0.8271 - val_loss: 0.3931 - val_accuracy: 0.8687\n",
            "Epoch 5/50\n",
            "1013/1013 [==============================] - 6s 6ms/step - loss: 0.4642 - accuracy: 0.8471 - val_loss: 0.4076 - val_accuracy: 0.8813\n",
            "Epoch 6/50\n",
            "1013/1013 [==============================] - 6s 6ms/step - loss: 0.4295 - accuracy: 0.8578 - val_loss: 0.3699 - val_accuracy: 0.8813\n",
            "Epoch 7/50\n",
            "1013/1013 [==============================] - 6s 6ms/step - loss: 0.3932 - accuracy: 0.8652 - val_loss: 0.3497 - val_accuracy: 0.9062\n",
            "Epoch 8/50\n",
            "1013/1013 [==============================] - 6s 6ms/step - loss: 0.3829 - accuracy: 0.8666 - val_loss: 0.3140 - val_accuracy: 0.8875\n",
            "Epoch 9/50\n",
            "1013/1013 [==============================] - 6s 6ms/step - loss: 0.3549 - accuracy: 0.8790 - val_loss: 0.3144 - val_accuracy: 0.9125\n",
            "Epoch 10/50\n",
            "1013/1013 [==============================] - 7s 6ms/step - loss: 0.3586 - accuracy: 0.8801 - val_loss: 0.3228 - val_accuracy: 0.8750\n",
            "Epoch 11/50\n",
            "1013/1013 [==============================] - 6s 6ms/step - loss: 0.3286 - accuracy: 0.8923 - val_loss: 0.3358 - val_accuracy: 0.9062\n",
            "Epoch 12/50\n",
            "1013/1013 [==============================] - 6s 6ms/step - loss: 0.3157 - accuracy: 0.8968 - val_loss: 0.2928 - val_accuracy: 0.9000\n",
            "Epoch 13/50\n",
            "1013/1013 [==============================] - 6s 6ms/step - loss: 0.2842 - accuracy: 0.9027 - val_loss: 0.2951 - val_accuracy: 0.9125\n",
            "Epoch 14/50\n",
            "1013/1013 [==============================] - 6s 6ms/step - loss: 0.2950 - accuracy: 0.8997 - val_loss: 0.2590 - val_accuracy: 0.9438\n",
            "Epoch 15/50\n",
            "1013/1013 [==============================] - 7s 6ms/step - loss: 0.3178 - accuracy: 0.8946 - val_loss: 0.2598 - val_accuracy: 0.9250\n",
            "Epoch 16/50\n",
            "1013/1013 [==============================] - 6s 6ms/step - loss: 0.2695 - accuracy: 0.9112 - val_loss: 0.2964 - val_accuracy: 0.9000\n",
            "Epoch 17/50\n",
            "1013/1013 [==============================] - 7s 7ms/step - loss: 0.2846 - accuracy: 0.9124 - val_loss: 0.2518 - val_accuracy: 0.9438\n",
            "Epoch 18/50\n",
            "1013/1013 [==============================] - 7s 7ms/step - loss: 0.2695 - accuracy: 0.9090 - val_loss: 0.2629 - val_accuracy: 0.9250\n",
            "Epoch 19/50\n",
            "1013/1013 [==============================] - 7s 7ms/step - loss: 0.2600 - accuracy: 0.9104 - val_loss: 0.2880 - val_accuracy: 0.9125\n",
            "Epoch 20/50\n",
            "1013/1013 [==============================] - 7s 6ms/step - loss: 0.2611 - accuracy: 0.9105 - val_loss: 0.2554 - val_accuracy: 0.9375\n",
            "Epoch 21/50\n",
            "1013/1013 [==============================] - 6s 6ms/step - loss: 0.2650 - accuracy: 0.9113 - val_loss: 0.2318 - val_accuracy: 0.9438\n",
            "Epoch 22/50\n",
            "1013/1013 [==============================] - 7s 6ms/step - loss: 0.2549 - accuracy: 0.9161 - val_loss: 0.1975 - val_accuracy: 0.9375\n",
            "Epoch 23/50\n",
            "1013/1013 [==============================] - 6s 6ms/step - loss: 0.2493 - accuracy: 0.9172 - val_loss: 0.3644 - val_accuracy: 0.9000\n",
            "Epoch 24/50\n",
            "1013/1013 [==============================] - 7s 7ms/step - loss: 0.2523 - accuracy: 0.9154 - val_loss: 0.2128 - val_accuracy: 0.9438\n",
            "Epoch 25/50\n",
            "1013/1013 [==============================] - 6s 6ms/step - loss: 0.2358 - accuracy: 0.9193 - val_loss: 0.1845 - val_accuracy: 0.9688\n",
            "Epoch 26/50\n",
            "1013/1013 [==============================] - 7s 7ms/step - loss: 0.2283 - accuracy: 0.9224 - val_loss: 0.2169 - val_accuracy: 0.9500\n",
            "Epoch 27/50\n",
            "1013/1013 [==============================] - 6s 6ms/step - loss: 0.2393 - accuracy: 0.9185 - val_loss: 0.2020 - val_accuracy: 0.9563\n",
            "Epoch 28/50\n",
            "1013/1013 [==============================] - 6s 6ms/step - loss: 0.2365 - accuracy: 0.9208 - val_loss: 0.2382 - val_accuracy: 0.9125\n",
            "Epoch 29/50\n",
            "1013/1013 [==============================] - 6s 6ms/step - loss: 0.2186 - accuracy: 0.9285 - val_loss: 0.1978 - val_accuracy: 0.9500\n",
            "Epoch 30/50\n",
            "1013/1013 [==============================] - 7s 7ms/step - loss: 0.2326 - accuracy: 0.9216 - val_loss: 0.2035 - val_accuracy: 0.9375\n",
            "Epoch 31/50\n",
            "1013/1013 [==============================] - 7s 6ms/step - loss: 0.2285 - accuracy: 0.9234 - val_loss: 0.2287 - val_accuracy: 0.9438\n",
            "Epoch 32/50\n",
            "1013/1013 [==============================] - 6s 6ms/step - loss: 0.2193 - accuracy: 0.9276 - val_loss: 0.2103 - val_accuracy: 0.9438\n",
            "Epoch 33/50\n",
            "1013/1013 [==============================] - 6s 6ms/step - loss: 0.2029 - accuracy: 0.9310 - val_loss: 0.2074 - val_accuracy: 0.9312\n",
            "Epoch 34/50\n",
            "1013/1013 [==============================] - 7s 7ms/step - loss: 0.2181 - accuracy: 0.9266 - val_loss: 0.1902 - val_accuracy: 0.9563\n",
            "Epoch 35/50\n",
            "1013/1013 [==============================] - 6s 6ms/step - loss: 0.2199 - accuracy: 0.9247 - val_loss: 0.2222 - val_accuracy: 0.9375\n",
            "Epoch 36/50\n",
            "1013/1013 [==============================] - 7s 7ms/step - loss: 0.2097 - accuracy: 0.9298 - val_loss: 0.2546 - val_accuracy: 0.9187\n",
            "Epoch 37/50\n",
            "1013/1013 [==============================] - 7s 6ms/step - loss: 0.1948 - accuracy: 0.9342 - val_loss: 0.2146 - val_accuracy: 0.9312\n",
            "Epoch 38/50\n",
            "1013/1013 [==============================] - 6s 6ms/step - loss: 0.2193 - accuracy: 0.9279 - val_loss: 0.1863 - val_accuracy: 0.9500\n",
            "Epoch 39/50\n",
            "1013/1013 [==============================] - 6s 6ms/step - loss: 0.2058 - accuracy: 0.9322 - val_loss: 0.1629 - val_accuracy: 0.9375\n",
            "Epoch 40/50\n",
            "1013/1013 [==============================] - 6s 6ms/step - loss: 0.1974 - accuracy: 0.9349 - val_loss: 0.2398 - val_accuracy: 0.9500\n",
            "Epoch 41/50\n",
            "1013/1013 [==============================] - 6s 6ms/step - loss: 0.1789 - accuracy: 0.9425 - val_loss: 0.1979 - val_accuracy: 0.9375\n",
            "Epoch 42/50\n",
            "1013/1013 [==============================] - 6s 6ms/step - loss: 0.1863 - accuracy: 0.9387 - val_loss: 0.1837 - val_accuracy: 0.9438\n",
            "Epoch 43/50\n",
            "1013/1013 [==============================] - 6s 6ms/step - loss: 0.1901 - accuracy: 0.9332 - val_loss: 0.2152 - val_accuracy: 0.9563\n",
            "Epoch 44/50\n",
            "1013/1013 [==============================] - 6s 6ms/step - loss: 0.1901 - accuracy: 0.9378 - val_loss: 0.1813 - val_accuracy: 0.9500\n",
            "Epoch 45/50\n",
            "1013/1013 [==============================] - 6s 6ms/step - loss: 0.2019 - accuracy: 0.9363 - val_loss: 0.2232 - val_accuracy: 0.9500\n",
            "Epoch 46/50\n",
            "1013/1013 [==============================] - 6s 6ms/step - loss: 0.1995 - accuracy: 0.9368 - val_loss: 0.1798 - val_accuracy: 0.9375\n",
            "Epoch 47/50\n",
            "1013/1013 [==============================] - 6s 6ms/step - loss: 0.2025 - accuracy: 0.9359 - val_loss: 0.1760 - val_accuracy: 0.9625\n",
            "Epoch 48/50\n",
            "1013/1013 [==============================] - 6s 6ms/step - loss: 0.1755 - accuracy: 0.9366 - val_loss: 0.2464 - val_accuracy: 0.9500\n",
            "Epoch 49/50\n",
            "1013/1013 [==============================] - 6s 6ms/step - loss: 0.1859 - accuracy: 0.9439 - val_loss: 0.1838 - val_accuracy: 0.9438\n",
            "Epoch 50/50\n",
            "1013/1013 [==============================] - 6s 6ms/step - loss: 0.1739 - accuracy: 0.9405 - val_loss: 0.2094 - val_accuracy: 0.9438\n"
          ],
          "name": "stdout"
        }
      ]
    },
    {
      "cell_type": "code",
      "metadata": {
        "colab": {
          "base_uri": "https://localhost:8080/"
        },
        "id": "CzVU9nR2OBg9",
        "outputId": "00983e10-2926-4f86-fe1b-e17c3e6927bb"
      },
      "source": [
        "loss, accuracy = clf.evaluate(X_train, y_train, verbose=False)\n",
        "print(\"Training Accuracy: {:.4f}\".format(accuracy))\n",
        "print(\"Training loss: {:.4f}\".format(loss))\n",
        "loss, accuracy = clf.evaluate(X_test, y_test, verbose=False,batch_size=128)\n",
        "print(\"Testing Accuracy:  {:.4f}\".format(accuracy))\n",
        "print(\"Testing loss:  {:.4f}\".format(loss))\n"
      ],
      "execution_count": null,
      "outputs": [
        {
          "output_type": "stream",
          "text": [
            "Training Accuracy: 0.9596\n",
            "Training loss: 0.1299\n",
            "Testing Accuracy:  0.9516\n",
            "Testing loss:  0.1600\n"
          ],
          "name": "stdout"
        }
      ]
    },
    {
      "cell_type": "code",
      "metadata": {
        "colab": {
          "base_uri": "https://localhost:8080/",
          "height": 297
        },
        "id": "oURTFN-67nZo",
        "outputId": "c098fdf8-ddc9-4a20-b6e1-e3664718fea1"
      },
      "source": [
        "plt.plot(cnn_history.history['accuracy'])\n",
        "plt.plot(cnn_history.history['val_accuracy'])\n",
        "plt.legend([\"accuracy\",\"val_accuracy\"])\n",
        "plt.xlabel('Epoch')\n",
        "plt.ylabel('Accuracy')"
      ],
      "execution_count": null,
      "outputs": [
        {
          "output_type": "execute_result",
          "data": {
            "text/plain": [
              "Text(0, 0.5, 'Accuracy')"
            ]
          },
          "metadata": {
            "tags": []
          },
          "execution_count": 327
        },
        {
          "output_type": "display_data",
          "data": {
            "image/png": "[encoded data removed]",
            "text/plain": [
              "<Figure size 432x288 with 1 Axes>"
            ]
          },
          "metadata": {
            "tags": [],
            "needs_background": "light"
          }
        }
      ]
    },
    {
      "cell_type": "code",
      "metadata": {
        "colab": {
          "base_uri": "https://localhost:8080/",
          "height": 297
        },
        "id": "FGGinAKd71ti",
        "outputId": "d749cbf2-3954-4c1f-9fef-1fae2c93870c"
      },
      "source": [
        "plt.plot(cnn_history.history['loss'])\n",
        "plt.plot(cnn_history.history['val_loss'])\n",
        "plt.legend([\"loss\",\"val_loss\"])\n",
        "plt.xlabel('Epoch')\n",
        "plt.ylabel('Loss')"
      ],
      "execution_count": null,
      "outputs": [
        {
          "output_type": "execute_result",
          "data": {
            "text/plain": [
              "Text(0, 0.5, 'Loss')"
            ]
          },
          "metadata": {
            "tags": []
          },
          "execution_count": 328
        },
        {
          "output_type": "display_data",
          "data": {
            "image/png": "[encoded data removed]",
            "text/plain": [
              "<Figure size 432x288 with 1 Axes>"
            ]
          },
          "metadata": {
            "tags": [],
            "needs_background": "light"
          }
        }
      ]
    },
    {
      "cell_type": "code",
      "metadata": {
        "colab": {
          "base_uri": "https://localhost:8080/"
        },
        "id": "KWxPsqFb0Pgq",
        "outputId": "03dff8ee-bef3-4fc7-f654-ba7c58058cf1"
      },
      "source": [
        "yhat_classes = clf.predict_classes(X_test, verbose=0)\n",
        "print(yhat_classes.shape,y_train.shape)\n",
        "print(yhat_classes[60])\n",
        "\n",
        "# reduce to 1d array\n",
        "yhat_classes = yhat_classes[:]\n",
        "import numpy as np\n",
        "rounded_labels=np.argmax(y_test, axis=1)\n",
        "print(rounded_labels[60])\n",
        "\n",
        "from sklearn.metrics import classification_report\n",
        "import time\n",
        "import numpy as np\n",
        "start_time = time.time()\n",
        "\n",
        "print(classification_report(rounded_labels,yhat_classes))\n",
        "print(\"Time taken to predict the model \" + str(time.time() - start_time))"
      ],
      "execution_count": null,
      "outputs": [
        {
          "output_type": "stream",
          "text": [
            "/usr/local/lib/python3.7/dist-packages/tensorflow/python/keras/engine/sequential.py:450: UserWarning: `model.predict_classes()` is deprecated and will be removed after 2021-01-01. Please use instead:* `np.argmax(model.predict(x), axis=-1)`,   if your model does multi-class classification   (e.g. if it uses a `softmax` last-layer activation).* `(model.predict(x) > 0.5).astype(\"int32\")`,   if your model does binary classification   (e.g. if it uses a `sigmoid` last-layer activation).\n",
            "  warnings.warn('`model.predict_classes()` is deprecated and '\n"
          ],
          "name": "stderr"
        },
        {
          "output_type": "stream",
          "text": [
            "(2686,) (24171, 5)\n",
            "0\n",
            "1\n",
            "              precision    recall  f1-score   support\n",
            "\n",
            "           0       0.92      0.96      0.94       799\n",
            "           1       0.98      0.78      0.87       290\n",
            "           2       0.95      0.98      0.97       709\n",
            "           3       0.72      0.82      0.76        77\n",
            "           4       1.00      0.99      0.99       811\n",
            "\n",
            "    accuracy                           0.95      2686\n",
            "   macro avg       0.91      0.91      0.91      2686\n",
            "weighted avg       0.95      0.95      0.95      2686\n",
            "\n",
            "Time taken to predict the model 0.006882429122924805\n"
          ],
          "name": "stdout"
        }
      ]
    },
    {
      "cell_type": "code",
      "metadata": {
        "id": "E8CM27VxbZ-_"
      },
      "source": [
        "ann_model = Sequential()\n",
        "ann_model.add(Dense(64, activation='relu', input_shape=(X_train.shape[1],1)))\n",
        "ann_model.add(Dropout(0.5))\n",
        "\n",
        "ann_model.add(Dense(32, activation='relu'))\n",
        "ann_model.add(Dropout(0.5))\n",
        "\n",
        "ann_model.add(Flatten())\n",
        "ann_model.add(Dense(5, activation='softmax'))"
      ],
      "execution_count": null,
      "outputs": []
    },
    {
      "cell_type": "code",
      "metadata": {
        "id": "ce6aKPMgbe6f"
      },
      "source": [
        "ann_model.compile(optimizer='adam', loss='categorical_crossentropy', metrics=['accuracy'])"
      ],
      "execution_count": null,
      "outputs": []
    },
    {
      "cell_type": "code",
      "metadata": {
        "colab": {
          "base_uri": "https://localhost:8080/"
        },
        "id": "bq9VXxZVcjAf",
        "outputId": "890103d8-1f5e-4e6d-c8d0-366f0faeac90"
      },
      "source": [
        "ann_model.summary()"
      ],
      "execution_count": null,
      "outputs": [
        {
          "output_type": "stream",
          "text": [
            "Model: \"sequential_2\"\n",
            "_________________________________________________________________\n",
            "Layer (type)                 Output Shape              Param #   \n",
            "=================================================================\n",
            "dense_1 (Dense)              (None, 187, 64)           128       \n",
            "_________________________________________________________________\n",
            "dropout (Dropout)            (None, 187, 64)           0         \n",
            "_________________________________________________________________\n",
            "dense_2 (Dense)              (None, 187, 32)           2080      \n",
            "_________________________________________________________________\n",
            "dropout_1 (Dropout)          (None, 187, 32)           0         \n",
            "_________________________________________________________________\n",
            "flatten (Flatten)            (None, 5984)              0         \n",
            "_________________________________________________________________\n",
            "dense_3 (Dense)              (None, 5)                 29925     \n",
            "=================================================================\n",
            "Total params: 32,133\n",
            "Trainable params: 32,133\n",
            "Non-trainable params: 0\n",
            "_________________________________________________________________\n"
          ],
          "name": "stdout"
        }
      ]
    },
    {
      "cell_type": "code",
      "metadata": {
        "colab": {
          "base_uri": "https://localhost:8080/"
        },
        "id": "z8Khl4QCZOdT",
        "outputId": "f03e2327-9a12-4255-c66e-255a057c3864"
      },
      "source": [
        "earlyStopping = EarlyStopping(monitor='val_loss', patience=40, verbose=1, mode='min')\n",
        "mcp_save = ModelCheckpoint(r'/content/second.hdf5', save_best_only=True, monitor='val_loss', mode='min')\n",
        "reduce_lr = ReduceLROnPlateau(monitor='val_loss', factor=0.2,patience=20, min_lr=0.0001)\n",
        "ann_history = ann_model.fit(X_train,y_train,epochs=50,batch_size=16,validation_split=0.33,callbacks=[earlyStopping, mcp_save, reduce_lr]\n",
        "                  ,validation_steps=20, verbose=1)"
      ],
      "execution_count": null,
      "outputs": [
        {
          "output_type": "stream",
          "text": [
            "Epoch 1/50\n",
            "1013/1013 [==============================] - 6s 3ms/step - loss: 0.9455 - accuracy: 0.6323 - val_loss: 0.5385 - val_accuracy: 0.8313\n",
            "Epoch 2/50\n",
            "1013/1013 [==============================] - 3s 3ms/step - loss: 0.6144 - accuracy: 0.7875 - val_loss: 0.4441 - val_accuracy: 0.8750\n",
            "Epoch 3/50\n",
            "1013/1013 [==============================] - 3s 3ms/step - loss: 0.5298 - accuracy: 0.8205 - val_loss: 0.4128 - val_accuracy: 0.8719\n",
            "Epoch 4/50\n",
            "1013/1013 [==============================] - 3s 3ms/step - loss: 0.5209 - accuracy: 0.8254 - val_loss: 0.3985 - val_accuracy: 0.8844\n",
            "Epoch 5/50\n",
            "1013/1013 [==============================] - 3s 3ms/step - loss: 0.4967 - accuracy: 0.8279 - val_loss: 0.3831 - val_accuracy: 0.8844\n",
            "Epoch 6/50\n",
            "1013/1013 [==============================] - 3s 3ms/step - loss: 0.4865 - accuracy: 0.8305 - val_loss: 0.3714 - val_accuracy: 0.8875\n",
            "Epoch 7/50\n",
            "1013/1013 [==============================] - 3s 3ms/step - loss: 0.4695 - accuracy: 0.8389 - val_loss: 0.3678 - val_accuracy: 0.8906\n",
            "Epoch 8/50\n",
            "1013/1013 [==============================] - 3s 3ms/step - loss: 0.4626 - accuracy: 0.8419 - val_loss: 0.3563 - val_accuracy: 0.8750\n",
            "Epoch 9/50\n",
            "1013/1013 [==============================] - 3s 3ms/step - loss: 0.4614 - accuracy: 0.8347 - val_loss: 0.3430 - val_accuracy: 0.8875\n",
            "Epoch 10/50\n",
            "1013/1013 [==============================] - 3s 3ms/step - loss: 0.4581 - accuracy: 0.8383 - val_loss: 0.3691 - val_accuracy: 0.8844\n",
            "Epoch 11/50\n",
            "1013/1013 [==============================] - 3s 3ms/step - loss: 0.4426 - accuracy: 0.8450 - val_loss: 0.3542 - val_accuracy: 0.9031\n",
            "Epoch 12/50\n",
            "1013/1013 [==============================] - 3s 3ms/step - loss: 0.4384 - accuracy: 0.8467 - val_loss: 0.3676 - val_accuracy: 0.9000\n",
            "Epoch 13/50\n",
            "1013/1013 [==============================] - 3s 3ms/step - loss: 0.4206 - accuracy: 0.8525 - val_loss: 0.3577 - val_accuracy: 0.8906\n",
            "Epoch 14/50\n",
            "1013/1013 [==============================] - 3s 3ms/step - loss: 0.4257 - accuracy: 0.8498 - val_loss: 0.3477 - val_accuracy: 0.9125\n",
            "Epoch 15/50\n",
            "1013/1013 [==============================] - 3s 3ms/step - loss: 0.4299 - accuracy: 0.8505 - val_loss: 0.3581 - val_accuracy: 0.8969\n",
            "Epoch 16/50\n",
            "1013/1013 [==============================] - 3s 3ms/step - loss: 0.4325 - accuracy: 0.8498 - val_loss: 0.3415 - val_accuracy: 0.9125\n",
            "Epoch 17/50\n",
            "1013/1013 [==============================] - 3s 3ms/step - loss: 0.4337 - accuracy: 0.8512 - val_loss: 0.3380 - val_accuracy: 0.8969\n",
            "Epoch 18/50\n",
            "1013/1013 [==============================] - 3s 3ms/step - loss: 0.4215 - accuracy: 0.8531 - val_loss: 0.3414 - val_accuracy: 0.9062\n",
            "Epoch 19/50\n",
            "1013/1013 [==============================] - 3s 3ms/step - loss: 0.4047 - accuracy: 0.8595 - val_loss: 0.3592 - val_accuracy: 0.8969\n",
            "Epoch 20/50\n",
            "1013/1013 [==============================] - 3s 3ms/step - loss: 0.4065 - accuracy: 0.8543 - val_loss: 0.3507 - val_accuracy: 0.9125\n",
            "Epoch 21/50\n",
            "1013/1013 [==============================] - 3s 3ms/step - loss: 0.4180 - accuracy: 0.8550 - val_loss: 0.3285 - val_accuracy: 0.9094\n",
            "Epoch 22/50\n",
            "1013/1013 [==============================] - 3s 3ms/step - loss: 0.4033 - accuracy: 0.8584 - val_loss: 0.3166 - val_accuracy: 0.9250\n",
            "Epoch 23/50\n",
            "1013/1013 [==============================] - 3s 3ms/step - loss: 0.4102 - accuracy: 0.8559 - val_loss: 0.3334 - val_accuracy: 0.9125\n",
            "Epoch 24/50\n",
            "1013/1013 [==============================] - 3s 3ms/step - loss: 0.4114 - accuracy: 0.8585 - val_loss: 0.3367 - val_accuracy: 0.9062\n",
            "Epoch 25/50\n",
            "1013/1013 [==============================] - 3s 3ms/step - loss: 0.4101 - accuracy: 0.8581 - val_loss: 0.3386 - val_accuracy: 0.9031\n",
            "Epoch 26/50\n",
            "1013/1013 [==============================] - 3s 3ms/step - loss: 0.4042 - accuracy: 0.8607 - val_loss: 0.3214 - val_accuracy: 0.9219\n",
            "Epoch 27/50\n",
            "1013/1013 [==============================] - 3s 3ms/step - loss: 0.3943 - accuracy: 0.8647 - val_loss: 0.3238 - val_accuracy: 0.8906\n",
            "Epoch 28/50\n",
            "1013/1013 [==============================] - 3s 3ms/step - loss: 0.3995 - accuracy: 0.8556 - val_loss: 0.3352 - val_accuracy: 0.9125\n",
            "Epoch 29/50\n",
            "1013/1013 [==============================] - 3s 3ms/step - loss: 0.4064 - accuracy: 0.8616 - val_loss: 0.3205 - val_accuracy: 0.9156\n",
            "Epoch 30/50\n",
            "1013/1013 [==============================] - 3s 3ms/step - loss: 0.3904 - accuracy: 0.8617 - val_loss: 0.3115 - val_accuracy: 0.9125\n",
            "Epoch 31/50\n",
            "1013/1013 [==============================] - 3s 3ms/step - loss: 0.3897 - accuracy: 0.8676 - val_loss: 0.3261 - val_accuracy: 0.9219\n",
            "Epoch 32/50\n",
            "1013/1013 [==============================] - 3s 3ms/step - loss: 0.3874 - accuracy: 0.8640 - val_loss: 0.3312 - val_accuracy: 0.9125\n",
            "Epoch 33/50\n",
            "1013/1013 [==============================] - 3s 3ms/step - loss: 0.3963 - accuracy: 0.8630 - val_loss: 0.3150 - val_accuracy: 0.9281\n",
            "Epoch 34/50\n",
            "1013/1013 [==============================] - 3s 3ms/step - loss: 0.3797 - accuracy: 0.8657 - val_loss: 0.2941 - val_accuracy: 0.9250\n",
            "Epoch 35/50\n",
            "1013/1013 [==============================] - 3s 3ms/step - loss: 0.3918 - accuracy: 0.8650 - val_loss: 0.3045 - val_accuracy: 0.9187\n",
            "Epoch 36/50\n",
            "1013/1013 [==============================] - 3s 3ms/step - loss: 0.3908 - accuracy: 0.8635 - val_loss: 0.3073 - val_accuracy: 0.9062\n",
            "Epoch 37/50\n",
            "1013/1013 [==============================] - 3s 3ms/step - loss: 0.3844 - accuracy: 0.8663 - val_loss: 0.2948 - val_accuracy: 0.9250\n",
            "Epoch 38/50\n",
            "1013/1013 [==============================] - 3s 3ms/step - loss: 0.3872 - accuracy: 0.8635 - val_loss: 0.2835 - val_accuracy: 0.9281\n",
            "Epoch 39/50\n",
            "1013/1013 [==============================] - 3s 3ms/step - loss: 0.3742 - accuracy: 0.8737 - val_loss: 0.2926 - val_accuracy: 0.9281\n",
            "Epoch 40/50\n",
            "1013/1013 [==============================] - 3s 3ms/step - loss: 0.3927 - accuracy: 0.8613 - val_loss: 0.3221 - val_accuracy: 0.9000\n",
            "Epoch 41/50\n",
            "1013/1013 [==============================] - 3s 3ms/step - loss: 0.3889 - accuracy: 0.8649 - val_loss: 0.3059 - val_accuracy: 0.9156\n",
            "Epoch 42/50\n",
            "1013/1013 [==============================] - 3s 3ms/step - loss: 0.3842 - accuracy: 0.8654 - val_loss: 0.3187 - val_accuracy: 0.9062\n",
            "Epoch 43/50\n",
            "1013/1013 [==============================] - 3s 3ms/step - loss: 0.3740 - accuracy: 0.8715 - val_loss: 0.3119 - val_accuracy: 0.9219\n",
            "Epoch 44/50\n",
            "1013/1013 [==============================] - 3s 3ms/step - loss: 0.3936 - accuracy: 0.8652 - val_loss: 0.3001 - val_accuracy: 0.9219\n",
            "Epoch 45/50\n",
            "1013/1013 [==============================] - 3s 3ms/step - loss: 0.3919 - accuracy: 0.8643 - val_loss: 0.3030 - val_accuracy: 0.9312\n",
            "Epoch 46/50\n",
            "1013/1013 [==============================] - 3s 3ms/step - loss: 0.3842 - accuracy: 0.8612 - val_loss: 0.2935 - val_accuracy: 0.9187\n",
            "Epoch 47/50\n",
            "1013/1013 [==============================] - 3s 3ms/step - loss: 0.3847 - accuracy: 0.8666 - val_loss: 0.2857 - val_accuracy: 0.9250\n",
            "Epoch 48/50\n",
            "1013/1013 [==============================] - 3s 3ms/step - loss: 0.3759 - accuracy: 0.8687 - val_loss: 0.2809 - val_accuracy: 0.9219\n",
            "Epoch 49/50\n",
            "1013/1013 [==============================] - 3s 3ms/step - loss: 0.3815 - accuracy: 0.8636 - val_loss: 0.2865 - val_accuracy: 0.9187\n",
            "Epoch 50/50\n",
            "1013/1013 [==============================] - 3s 3ms/step - loss: 0.3848 - accuracy: 0.8675 - val_loss: 0.2908 - val_accuracy: 0.9094\n"
          ],
          "name": "stdout"
        }
      ]
    },
    {
      "cell_type": "code",
      "metadata": {
        "colab": {
          "base_uri": "https://localhost:8080/"
        },
        "id": "99h7nbKbfAUN",
        "outputId": "62266b8d-5fb4-4dbe-ea06-e81fc3258a50"
      },
      "source": [
        "loss, accuracy = ann_model.evaluate(X_train, y_train, verbose=False)\n",
        "print(\"Training Accuracy: {:.4f}\".format(accuracy))\n",
        "print(\"Training loss: {:.4f}\".format(loss))\n",
        "loss, accuracy = ann_model.evaluate(X_test, y_test, verbose=False)\n",
        "print(\"Testing Accuracy:  {:.4f}\".format(accuracy))\n",
        "print(\"Testing loss:  {:.4f}\".format(loss))"
      ],
      "execution_count": null,
      "outputs": [
        {
          "output_type": "stream",
          "text": [
            "Training Accuracy: 0.8933\n",
            "Training loss: 0.3176\n",
            "Testing Accuracy:  0.8757\n",
            "Testing loss:  0.3819\n"
          ],
          "name": "stdout"
        }
      ]
    },
    {
      "cell_type": "code",
      "metadata": {
        "colab": {
          "base_uri": "https://localhost:8080/",
          "height": 297
        },
        "id": "RrgqhNjJ7qjG",
        "outputId": "c04d72d6-b3ee-4f3e-84c3-4b9fc657f921"
      },
      "source": [
        "plt.plot(ann_history.history['accuracy'])\n",
        "plt.plot(ann_history.history['val_accuracy'])\n",
        "plt.legend([\"accuracy\",\"val_accuracy\"])\n",
        "plt.xlabel('Epoch')\n",
        "plt.ylabel('Accuracy')"
      ],
      "execution_count": null,
      "outputs": [
        {
          "output_type": "execute_result",
          "data": {
            "text/plain": [
              "Text(0, 0.5, 'Accuracy')"
            ]
          },
          "metadata": {
            "tags": []
          },
          "execution_count": 28
        },
        {
          "output_type": "display_data",
          "data": {
            "image/png": "[encoded data removed]",
            "text/plain": [
              "<Figure size 432x288 with 1 Axes>"
            ]
          },
          "metadata": {
            "tags": [],
            "needs_background": "light"
          }
        }
      ]
    },
    {
      "cell_type": "code",
      "metadata": {
        "colab": {
          "base_uri": "https://localhost:8080/",
          "height": 300
        },
        "id": "ZVtNA7cI7xG2",
        "outputId": "4a4f9fa9-ce59-46a3-bb03-0425cd09d20f"
      },
      "source": [
        "plt.plot(ann_history.history['loss'])\n",
        "plt.plot(ann_history.history['val_loss'])\n",
        "plt.legend([\"loss\",\"val_loss\"])\n",
        "plt.xlabel('Epoch')\n",
        "plt.ylabel('Loss')"
      ],
      "execution_count": null,
      "outputs": [
        {
          "output_type": "execute_result",
          "data": {
            "text/plain": [
              "Text(0, 0.5, 'Loss')"
            ]
          },
          "metadata": {
            "tags": []
          },
          "execution_count": 29
        },
        {
          "output_type": "display_data",
          "data": {
            "image/png": "[encoded data removed]",
            "text/plain": [
              "<Figure size 432x288 with 1 Axes>"
            ]
          },
          "metadata": {
            "tags": [],
            "needs_background": "light"
          }
        }
      ]
    },
    {
      "cell_type": "code",
      "metadata": {
        "colab": {
          "base_uri": "https://localhost:8080/"
        },
        "id": "tMLvEzVhz6bb",
        "outputId": "aa478a12-6624-4236-bb0b-1c7cabe1b2ef"
      },
      "source": [
        "yhat_classes = ann_model.predict_classes(X_test, verbose=0)\n",
        "print(yhat_classes.shape,y_test.shape)\n",
        "\n",
        "import numpy as np\n",
        "rounded_labels=np.argmax(y_test, axis=1)\n",
        "\n",
        "from sklearn.metrics import classification_report\n",
        "import time\n",
        "import numpy as np\n",
        "start_time = time.time()\n",
        "\n",
        "print(classification_report(rounded_labels,yhat_classes))\n",
        "print(\"Time taken to predict the model \" + str(time.time() - start_time))"
      ],
      "execution_count": null,
      "outputs": [
        {
          "output_type": "stream",
          "text": [
            "/usr/local/lib/python3.7/dist-packages/tensorflow/python/keras/engine/sequential.py:450: UserWarning: `model.predict_classes()` is deprecated and will be removed after 2021-01-01. Please use instead:* `np.argmax(model.predict(x), axis=-1)`,   if your model does multi-class classification   (e.g. if it uses a `softmax` last-layer activation).* `(model.predict(x) > 0.5).astype(\"int32\")`,   if your model does binary classification   (e.g. if it uses a `sigmoid` last-layer activation).\n",
            "  warnings.warn('`model.predict_classes()` is deprecated and '\n"
          ],
          "name": "stderr"
        },
        {
          "output_type": "stream",
          "text": [
            "(2686,) (2686, 5)\n",
            "              precision    recall  f1-score   support\n",
            "\n",
            "           0       0.77      0.93      0.84       773\n",
            "           1       0.93      0.67      0.78       306\n",
            "           2       0.90      0.86      0.88       696\n",
            "           3       0.84      0.65      0.73        91\n",
            "           4       0.97      0.95      0.96       820\n",
            "\n",
            "    accuracy                           0.88      2686\n",
            "   macro avg       0.88      0.81      0.84      2686\n",
            "weighted avg       0.88      0.88      0.87      2686\n",
            "\n",
            "Time taken to predict the model 0.006963968276977539\n"
          ],
          "name": "stdout"
        }
      ]
    },
    {
      "cell_type": "code",
      "metadata": {
        "colab": {
          "base_uri": "https://localhost:8080/"
        },
        "id": "Y2xIhajb2NNm",
        "outputId": "bd40d406-c7a5-499d-8e21-5733b32bf41f"
      },
      "source": [
        "X_train.shape,y_train.shape"
      ],
      "execution_count": null,
      "outputs": [
        {
          "output_type": "execute_result",
          "data": {
            "text/plain": [
              "((24171, 187, 1), (24171, 5))"
            ]
          },
          "metadata": {
            "tags": []
          },
          "execution_count": 72
        }
      ]
    },
    {
      "cell_type": "code",
      "metadata": {
        "colab": {
          "base_uri": "https://localhost:8080/"
        },
        "id": "alaRfpi7m4t9",
        "outputId": "2a66cec7-739d-4c9f-966c-a46b6fb873ff"
      },
      "source": [
        "model = Sequential()\n",
        "\n",
        "model.add(layers.Embedding(input_dim=187, output_dim=64))\n",
        "\n",
        "model.add(layers.LSTM(64))\n",
        "model.add(Dropout(0.5))\n",
        "model.add(Flatten())\n",
        "\n",
        "# Add a Dense layer with 10 units.\n",
        "model.add(layers.Dense(40))\n",
        "model.add(Dropout(0.5))\n",
        "\n",
        "model.add(layers.Dense(5))\n",
        "\n",
        "model.summary()"
      ],
      "execution_count": null,
      "outputs": [
        {
          "output_type": "stream",
          "text": [
            "Model: \"sequential_16\"\n",
            "_________________________________________________________________\n",
            "Layer (type)                 Output Shape              Param #   \n",
            "=================================================================\n",
            "embedding_5 (Embedding)      (None, None, 64)          11968     \n",
            "_________________________________________________________________\n",
            "lstm_19 (LSTM)               (None, 64)                33024     \n",
            "_________________________________________________________________\n",
            "dropout_2 (Dropout)          (None, 64)                0         \n",
            "_________________________________________________________________\n",
            "flatten_1 (Flatten)          (None, 64)                0         \n",
            "_________________________________________________________________\n",
            "dense_13 (Dense)             (None, 40)                2600      \n",
            "_________________________________________________________________\n",
            "dropout_3 (Dropout)          (None, 40)                0         \n",
            "_________________________________________________________________\n",
            "dense_14 (Dense)             (None, 5)                 205       \n",
            "=================================================================\n",
            "Total params: 47,797\n",
            "Trainable params: 47,797\n",
            "Non-trainable params: 0\n",
            "_________________________________________________________________\n"
          ],
          "name": "stdout"
        }
      ]
    },
    {
      "cell_type": "code",
      "metadata": {
        "id": "q_atkjXenPOT"
      },
      "source": [
        "opt = keras.optimizers.Adam(0.001)\n",
        "model.compile(optimizer=opt, loss='categorical_crossentropy', metrics=['accuracy'])"
      ],
      "execution_count": null,
      "outputs": []
    },
    {
      "cell_type": "code",
      "metadata": {
        "colab": {
          "base_uri": "https://localhost:8080/"
        },
        "id": "auBxZjOunCZk",
        "outputId": "eb65041a-a45d-4a39-bfe0-5075eecd5724"
      },
      "source": [
        "earlyStopping = EarlyStopping(monitor='val_loss', patience=40, verbose=1, mode='min')\n",
        "mcp_save = ModelCheckpoint(r'/content/second.hdf5', save_best_only=True, monitor='val_loss', mode='min')\n",
        "reduce_lr = ReduceLROnPlateau(monitor='val_loss', factor=0.2,patience=20, min_lr=0.0001)\n",
        "model_history = model.fit(X_train,y_train,epochs=50,batch_size=16,validation_split=0.33,callbacks=[earlyStopping, mcp_save, reduce_lr]\n",
        "                  ,validation_steps=20, verbose=1)"
      ],
      "execution_count": null,
      "outputs": [
        {
          "output_type": "stream",
          "text": [
            "Epoch 1/50\n",
            "1013/1013 [==============================] - 11s 9ms/step - loss: 7.9329 - accuracy: 0.2769 - val_loss: 10.8293 - val_accuracy: 0.3000\n",
            "Epoch 2/50\n",
            "1013/1013 [==============================] - 9s 9ms/step - loss: 8.5836 - accuracy: 0.2890 - val_loss: 9.2679 - val_accuracy: 0.3000\n",
            "Epoch 3/50\n",
            "1013/1013 [==============================] - 9s 9ms/step - loss: 8.3541 - accuracy: 0.2595 - val_loss: 6.3969 - val_accuracy: 0.2750\n",
            "Epoch 4/50\n",
            "1013/1013 [==============================] - 9s 9ms/step - loss: 7.0956 - accuracy: 0.1561 - val_loss: 0.4030 - val_accuracy: 0.0250\n",
            "Epoch 5/50\n",
            "1013/1013 [==============================] - 9s 9ms/step - loss: 8.3109 - accuracy: 0.0304 - val_loss: 9.2679 - val_accuracy: 0.0250\n",
            "Epoch 6/50\n",
            "1013/1013 [==============================] - 9s 9ms/step - loss: 8.9431 - accuracy: 0.0449 - val_loss: 6.8502 - val_accuracy: 0.0250\n",
            "Epoch 7/50\n",
            "1013/1013 [==============================] - 9s 9ms/step - loss: 8.0575 - accuracy: 0.0593 - val_loss: 9.2679 - val_accuracy: 0.0250\n",
            "Epoch 8/50\n",
            "1013/1013 [==============================] - 9s 9ms/step - loss: 7.7633 - accuracy: 0.1248 - val_loss: 5.2887 - val_accuracy: 0.0250\n",
            "Epoch 9/50\n",
            "1013/1013 [==============================] - 9s 9ms/step - loss: 7.5745 - accuracy: 0.0970 - val_loss: 10.8293 - val_accuracy: 0.3031\n",
            "Epoch 10/50\n",
            "1013/1013 [==============================] - 9s 9ms/step - loss: 8.2410 - accuracy: 0.1524 - val_loss: 10.8293 - val_accuracy: 0.3031\n",
            "Epoch 11/50\n",
            "1013/1013 [==============================] - 9s 9ms/step - loss: 8.0985 - accuracy: 0.2010 - val_loss: 10.8293 - val_accuracy: 0.3031\n",
            "Epoch 12/50\n",
            "1013/1013 [==============================] - 9s 9ms/step - loss: 9.7451 - accuracy: 0.1727 - val_loss: 9.2679 - val_accuracy: 0.3031\n",
            "Epoch 13/50\n",
            "1013/1013 [==============================] - 9s 9ms/step - loss: 7.9517 - accuracy: 0.1984 - val_loss: 4.4325 - val_accuracy: 0.3031\n",
            "Epoch 14/50\n",
            "1013/1013 [==============================] - 9s 9ms/step - loss: 8.4355 - accuracy: 0.2019 - val_loss: 11.6856 - val_accuracy: 0.0969\n",
            "Epoch 15/50\n",
            "1013/1013 [==============================] - 9s 9ms/step - loss: 8.1450 - accuracy: 0.2159 - val_loss: 11.2827 - val_accuracy: 0.3000\n",
            "Epoch 16/50\n",
            "1013/1013 [==============================] - 9s 9ms/step - loss: 8.2819 - accuracy: 0.2246 - val_loss: 4.8354 - val_accuracy: 0.3031\n",
            "Epoch 17/50\n",
            "1013/1013 [==============================] - 9s 9ms/step - loss: 7.8720 - accuracy: 0.2356 - val_loss: 4.8354 - val_accuracy: 0.3000\n",
            "Epoch 18/50\n",
            "1013/1013 [==============================] - 9s 9ms/step - loss: 8.0043 - accuracy: 0.2098 - val_loss: 4.8354 - val_accuracy: 0.0969\n",
            "Epoch 19/50\n",
            "1013/1013 [==============================] - 9s 9ms/step - loss: 7.5261 - accuracy: 0.2011 - val_loss: 4.8354 - val_accuracy: 0.3000\n",
            "Epoch 20/50\n",
            "1013/1013 [==============================] - 9s 9ms/step - loss: 8.0697 - accuracy: 0.2260 - val_loss: 4.8354 - val_accuracy: 0.3031\n",
            "Epoch 21/50\n",
            "1013/1013 [==============================] - 9s 9ms/step - loss: 8.2936 - accuracy: 0.2578 - val_loss: 4.8354 - val_accuracy: 0.3031\n",
            "Epoch 22/50\n",
            "1013/1013 [==============================] - 9s 9ms/step - loss: 7.6244 - accuracy: 0.2599 - val_loss: 11.2827 - val_accuracy: 0.3031\n",
            "Epoch 23/50\n",
            "1013/1013 [==============================] - 9s 9ms/step - loss: 7.4917 - accuracy: 0.2797 - val_loss: 11.2827 - val_accuracy: 0.3031\n",
            "Epoch 24/50\n",
            "1013/1013 [==============================] - 9s 9ms/step - loss: 7.7606 - accuracy: 0.2730 - val_loss: 4.8354 - val_accuracy: 0.3031\n",
            "Epoch 25/50\n",
            "1013/1013 [==============================] - 9s 9ms/step - loss: 8.0207 - accuracy: 0.2760 - val_loss: 11.2827 - val_accuracy: 0.3031\n",
            "Epoch 26/50\n",
            "1013/1013 [==============================] - 9s 9ms/step - loss: 8.6281 - accuracy: 0.2855 - val_loss: 4.8354 - val_accuracy: 0.3031\n",
            "Epoch 27/50\n",
            "1013/1013 [==============================] - 9s 9ms/step - loss: 8.3280 - accuracy: 0.2831 - val_loss: 4.8354 - val_accuracy: 0.3031\n",
            "Epoch 28/50\n",
            "1013/1013 [==============================] - 9s 9ms/step - loss: 7.9520 - accuracy: 0.2866 - val_loss: 4.8354 - val_accuracy: 0.3031\n",
            "Epoch 29/50\n",
            "1013/1013 [==============================] - 9s 9ms/step - loss: 8.5428 - accuracy: 0.2835 - val_loss: 11.2827 - val_accuracy: 0.3031\n",
            "Epoch 30/50\n",
            "1013/1013 [==============================] - 9s 9ms/step - loss: 8.9277 - accuracy: 0.2844 - val_loss: 11.2827 - val_accuracy: 0.3031\n",
            "Epoch 31/50\n",
            "1013/1013 [==============================] - 9s 9ms/step - loss: 8.4788 - accuracy: 0.2905 - val_loss: 11.2827 - val_accuracy: 0.3031\n",
            "Epoch 32/50\n",
            "1013/1013 [==============================] - 9s 9ms/step - loss: 8.5491 - accuracy: 0.2778 - val_loss: 4.8354 - val_accuracy: 0.3031\n",
            "Epoch 33/50\n",
            "1013/1013 [==============================] - 9s 9ms/step - loss: 7.9279 - accuracy: 0.2766 - val_loss: 11.2827 - val_accuracy: 0.3031\n",
            "Epoch 34/50\n",
            "1013/1013 [==============================] - 9s 9ms/step - loss: 9.4722 - accuracy: 0.2746 - val_loss: 11.2827 - val_accuracy: 0.3031\n",
            "Epoch 35/50\n",
            "1013/1013 [==============================] - 9s 9ms/step - loss: 8.4014 - accuracy: 0.2847 - val_loss: 11.2827 - val_accuracy: 0.3031\n",
            "Epoch 36/50\n",
            "1013/1013 [==============================] - 9s 9ms/step - loss: 8.6481 - accuracy: 0.2828 - val_loss: 11.2827 - val_accuracy: 0.3031\n",
            "Epoch 37/50\n",
            "1013/1013 [==============================] - 9s 9ms/step - loss: 8.2275 - accuracy: 0.2809 - val_loss: 11.2827 - val_accuracy: 0.3031\n",
            "Epoch 38/50\n",
            "1013/1013 [==============================] - 9s 9ms/step - loss: 8.4601 - accuracy: 0.2775 - val_loss: 4.8354 - val_accuracy: 0.3031\n",
            "Epoch 39/50\n",
            "1013/1013 [==============================] - 9s 9ms/step - loss: 7.8253 - accuracy: 0.2852 - val_loss: 11.2827 - val_accuracy: 0.3031\n",
            "Epoch 40/50\n",
            "1013/1013 [==============================] - 9s 9ms/step - loss: 8.5332 - accuracy: 0.2824 - val_loss: 4.8354 - val_accuracy: 0.3031\n",
            "Epoch 41/50\n",
            "1013/1013 [==============================] - 9s 9ms/step - loss: nan - accuracy: 0.2810 - val_loss: nan - val_accuracy: 0.3000\n",
            "Epoch 42/50\n",
            "1013/1013 [==============================] - 9s 9ms/step - loss: nan - accuracy: 0.3015 - val_loss: nan - val_accuracy: 0.3000\n",
            "Epoch 43/50\n",
            "1013/1013 [==============================] - 9s 9ms/step - loss: nan - accuracy: 0.2956 - val_loss: nan - val_accuracy: 0.3000\n",
            "Epoch 44/50\n",
            "1013/1013 [==============================] - 9s 9ms/step - loss: nan - accuracy: 0.2957 - val_loss: nan - val_accuracy: 0.3000\n",
            "Epoch 00044: early stopping\n"
          ],
          "name": "stdout"
        }
      ]
    },
    {
      "cell_type": "code",
      "metadata": {
        "colab": {
          "base_uri": "https://localhost:8080/"
        },
        "id": "cu02rULM4soY",
        "outputId": "959ec330-8b63-407f-f701-06d98cffd4f2"
      },
      "source": [
        "loss, accuracy = model.evaluate(X_train, y_train, verbose=False)\n",
        "print(\"Training Accuracy: {:.4f}\".format(accuracy))\n",
        "print(\"Training loss: {:.4f}\".format(loss))\n",
        "loss, accuracy = model.evaluate(X_test, y_test, verbose=False)\n",
        "print(\"Testing Accuracy:  {:.4f}\".format(accuracy))\n",
        "print(\"Testing loss:  {:.4f}\".format(loss))"
      ],
      "execution_count": null,
      "outputs": [
        {
          "output_type": "stream",
          "text": [
            "Training Accuracy: 0.2990\n",
            "Training loss: 9.1804\n",
            "Testing Accuracy:  0.2878\n",
            "Testing loss:  8.8151\n"
          ],
          "name": "stdout"
        }
      ]
    },
    {
      "cell_type": "code",
      "metadata": {
        "colab": {
          "base_uri": "https://localhost:8080/",
          "height": 297
        },
        "id": "9JvWcRaX41ox",
        "outputId": "89c7ea53-5942-4b25-f65d-3f0e79e7fb18"
      },
      "source": [
        "plt.plot(model_history.history['accuracy'])\n",
        "plt.plot(model_history.history['val_accuracy'])\n",
        "plt.legend([\"accuracy\",\"val_accuracy\"])\n",
        "plt.xlabel('Epoch')\n",
        "plt.ylabel('Accuracy')"
      ],
      "execution_count": null,
      "outputs": [
        {
          "output_type": "execute_result",
          "data": {
            "text/plain": [
              "Text(0, 0.5, 'Accuracy')"
            ]
          },
          "metadata": {
            "tags": []
          },
          "execution_count": 82
        },
        {
          "output_type": "display_data",
          "data": {
            "image/png": "[encoded data removed]",
            "text/plain": [
              "<Figure size 432x288 with 1 Axes>"
            ]
          },
          "metadata": {
            "tags": [],
            "needs_background": "light"
          }
        }
      ]
    },
    {
      "cell_type": "code",
      "metadata": {
        "colab": {
          "base_uri": "https://localhost:8080/",
          "height": 297
        },
        "id": "cMHPl9Wj5BJj",
        "outputId": "0abe7319-af7c-4e1c-c1a1-ce81f84d8eb0"
      },
      "source": [
        "plt.plot(model_history.history['loss'])\n",
        "plt.plot(model_history.history['val_loss'])\n",
        "plt.legend([\"loss\",\"val_loss\"])\n",
        "plt.xlabel('Epoch')\n",
        "plt.ylabel('Loss')"
      ],
      "execution_count": null,
      "outputs": [
        {
          "output_type": "execute_result",
          "data": {
            "text/plain": [
              "Text(0, 0.5, 'Loss')"
            ]
          },
          "metadata": {
            "tags": []
          },
          "execution_count": 83
        },
        {
          "output_type": "display_data",
          "data": {
            "image/png": "[encoded data removed]",
            "text/plain": [
              "<Figure size 432x288 with 1 Axes>"
            ]
          },
          "metadata": {
            "tags": [],
            "needs_background": "light"
          }
        }
      ]
    },
    {
      "cell_type": "code",
      "metadata": {
        "colab": {
          "base_uri": "https://localhost:8080/"
        },
        "id": "2yy4cpxA5El8",
        "outputId": "90973404-6d2a-4a9a-a0c0-294098619b7f"
      },
      "source": [
        "yhat_classes = model.predict_classes(X_test, verbose=0)\n",
        "print(yhat_classes.shape,y_test.shape)\n",
        "\n",
        "import numpy as np\n",
        "rounded_labels=np.argmax(y_test, axis=1)\n",
        "\n",
        "from sklearn.metrics import classification_report\n",
        "import time\n",
        "import numpy as np\n",
        "start_time = time.time()\n",
        "\n",
        "print(classification_report(rounded_labels,yhat_classes))\n",
        "print(\"Time taken to predict the model \" + str(time.time() - start_time))"
      ],
      "execution_count": null,
      "outputs": [
        {
          "output_type": "stream",
          "text": [
            "/usr/local/lib/python3.7/dist-packages/tensorflow/python/keras/engine/sequential.py:450: UserWarning: `model.predict_classes()` is deprecated and will be removed after 2021-01-01. Please use instead:* `np.argmax(model.predict(x), axis=-1)`,   if your model does multi-class classification   (e.g. if it uses a `softmax` last-layer activation).* `(model.predict(x) > 0.5).astype(\"int32\")`,   if your model does binary classification   (e.g. if it uses a `sigmoid` last-layer activation).\n",
            "  warnings.warn('`model.predict_classes()` is deprecated and '\n"
          ],
          "name": "stderr"
        },
        {
          "output_type": "stream",
          "text": [
            "(2686,) (2686, 5)\n",
            "              precision    recall  f1-score   support\n",
            "\n",
            "           0       0.29      1.00      0.45       773\n",
            "           1       0.00      0.00      0.00       306\n",
            "           2       0.00      0.00      0.00       696\n",
            "           3       0.00      0.00      0.00        91\n",
            "           4       0.00      0.00      0.00       820\n",
            "\n",
            "    accuracy                           0.29      2686\n",
            "   macro avg       0.06      0.20      0.09      2686\n",
            "weighted avg       0.08      0.29      0.13      2686\n",
            "\n",
            "Time taken to predict the model 0.006803989410400391\n"
          ],
          "name": "stdout"
        },
        {
          "output_type": "stream",
          "text": [
            "/usr/local/lib/python3.7/dist-packages/sklearn/metrics/_classification.py:1272: UndefinedMetricWarning: Precision and F-score are ill-defined and being set to 0.0 in labels with no predicted samples. Use `zero_division` parameter to control this behavior.\n",
            "  _warn_prf(average, modifier, msg_start, len(result))\n"
          ],
          "name": "stderr"
        }
      ]
    }
  ]
}